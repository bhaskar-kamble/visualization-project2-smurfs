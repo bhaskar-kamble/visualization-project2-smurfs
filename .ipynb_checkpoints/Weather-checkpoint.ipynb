{
 "cells": [
  {
   "cell_type": "code",
   "execution_count": 1,
   "metadata": {},
   "outputs": [],
   "source": [
    "bundeslands = [\"Baden-Wuerttemberg\",\n",
    "\"Bayern\",\n",
    "\"Berlin\",\n",
    "\"Brandenburg\",\n",
    "\"Bremen\",\n",
    "\"Hamburg\",\n",
    "\"Hessen\",\n",
    "\"Mecklenburg-Vorpommern\",\n",
    "\"Niedersachsen\",\n",
    "\"Nordrhein-Westfalen\",\n",
    "\"Rheinland-Pfalz\",\n",
    "\"Saarland\",\n",
    "\"Sachsen\",\n",
    "\"Sachsen-Anhalt\",\n",
    "\"Schleswig-Holstein\",\n",
    "\"Thueringen\"]\n",
    "bundeslands_lat_lng = {i : {} for i in bundeslands}\n",
    "lat_lng = []"
   ]
  },
  {
   "cell_type": "code",
   "execution_count": 16,
   "metadata": {},
   "outputs": [],
   "source": [
    "import requests\n",
    "import urllib, json\n",
    "\n",
    "for bundesland in bundeslands: \n",
    "    url = 'https://api.opencagedata.com/geocode/v1/json?q=' + bundesland + '%2C%20Germany&key=1610b6e4bb2344c4adf0ae186f311c0e&language=en&pretty=1'\n",
    "    response = requests.get(url).json()\n",
    "    print( response['results'][0]['geometry'])\n",
    "    result = response['results'][0]['geometry']\n",
    "    bundeslands_lat_lng[bundesland] =result\n",
    "print(bundeslands_lat_lng)\n",
    "\n",
    "with open('lat_lng.json', 'w') as write_txt:\n",
    "    write_txt.write(str(bundeslands_lat_lng))\n",
    "    "
   ]
  },
  {
   "cell_type": "code",
   "execution_count": 55,
   "metadata": {},
   "outputs": [],
   "source": [
    "from_to = []\n",
    "for year in range(2009,2019):\n",
    "        from_to.append({'from': (str(year) + '-01-01'), 'to': (str(year) + '-12-31')})"
   ]
  },
  {
   "cell_type": "code",
   "execution_count": 54,
   "metadata": {},
   "outputs": [
    {
     "name": "stdout",
     "output_type": "stream",
     "text": [
      "2009-01-01 2009-12-31\n"
     ]
    }
   ],
   "source": [
    "from statistics import mode\n",
    "mode([1, 2, 2, 3, 3, 3, 3, 3, 4, 5, 6, 6, 6])\n",
    "file = open('stats.tsv', 'w')\n",
    "file.write('Year\\tBundesland\\tMax\\tMin\\tSnow\\tSun\\n' )\n",
    "for bundesland in [bundeslands[0]]:\n",
    "    lat_lng = bundeslands_lat_lng[bundesland]\n",
    "    years = range(2009, 2019)\n",
    "    year_idx = 0\n",
    "    for year in [from_to[0]]:\n",
    "        print(year['from'], year['to'])\n",
    "        url = 'http://api.worldweatheronline.com/premium/v1/past-weather.ashx?key=6d800a586ce446c698a224400192906&q=' + str(lat_lng['lat']) + ',' + str(lat_lng['lng']) +'&format=json&date=' + str(year['from'])+ '&enddate='+ str(year['to'])\n",
    "        response = requests.get(url).json()\n",
    "        result = response['data']['weather']\n",
    "        \n",
    "        i = 0\n",
    "        max_temp = []\n",
    "        min_temp = []\n",
    "        total_snow_cm = []\n",
    "        sun_hour = []\n",
    "        for day in result:\n",
    "            if '-01-' in day['date'] or '-12-' in day['date']:\n",
    "                i = i + 1\n",
    "                max_temp.append(day['maxtempC'])\n",
    "                min_temp.append(day['mintempC'])\n",
    "                total_snow_cm.append(day['totalSnow_cm'])\n",
    "                sun_hour.append(day['sunHour'])\n",
    "        file.write(str(years[year_idx]) + '\\t' + str(bundesland) + '\\t' + str(sum([float(i) for i in max_temp]) / i) + '\\t' + str(sum([float(i) for i in min_temp]) / i) + '\\t' +str(sum([float(l) for l in total_snow_cm])) + '\\t' + str(sum([float(l) for l in sun_hour]) / i) + '\\n')\n",
    "        year_idx = year_idx + 1\n",
    "file.close()"
   ]
  }
 ],
 "metadata": {
  "kernelspec": {
   "display_name": "Python 3",
   "language": "python",
   "name": "python3"
  },
  "language_info": {
   "codemirror_mode": {
    "name": "ipython",
    "version": 3
   },
   "file_extension": ".py",
   "mimetype": "text/x-python",
   "name": "python",
   "nbconvert_exporter": "python",
   "pygments_lexer": "ipython3",
   "version": "3.6.7"
  }
 },
 "nbformat": 4,
 "nbformat_minor": 2
}
